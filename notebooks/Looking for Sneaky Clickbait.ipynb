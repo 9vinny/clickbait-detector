{
 "cells": [
  {
   "cell_type": "markdown",
   "metadata": {},
   "source": [
    "# Looking for Sneaky Clickbait"
   ]
  },
  {
   "cell_type": "markdown",
   "metadata": {},
   "source": [
    "The aim of this experiment is to evaluate the clickbait detector model and find out what kind of clickbait does it fail to detect."
   ]
  },
  {
   "cell_type": "code",
   "execution_count": 1,
   "metadata": {
    "collapsed": false
   },
   "outputs": [
    {
     "name": "stderr",
     "output_type": "stream",
     "text": [
      "Using TensorFlow backend.\n"
     ]
    }
   ],
   "source": [
    "from keras.models import load_model\n",
    "from keras.preprocessing import sequence\n",
    "import sys\n",
    "import string \n",
    "import re\n",
    "\n",
    "\n",
    "UNK = \"<UNK>\"\n",
    "PAD = \"<PAD>\"\n",
    "MATCH_MULTIPLE_SPACES = re.compile(\"\\ {2,}\")\n",
    "SEQUENCE_LENGTH = 20"
   ]
  },
  {
   "cell_type": "markdown",
   "metadata": {},
   "source": [
    "## Load the model and vocabulary"
   ]
  },
  {
   "cell_type": "code",
   "execution_count": 2,
   "metadata": {
    "collapsed": true
   },
   "outputs": [],
   "source": [
    "model = load_model(\"../models/detector.h5\")\n",
    "\n",
    "\n",
    "vocabulary = open(\"../data/vocabulary.txt\").read().split(\"\\n\")\n",
    "inverse_vocabulary = dict((word, i) for i, word in enumerate(vocabulary))"
   ]
  },
  {
   "cell_type": "markdown",
   "metadata": {},
   "source": [
    "## Load validation data"
   ]
  },
  {
   "cell_type": "code",
   "execution_count": 3,
   "metadata": {
    "collapsed": false
   },
   "outputs": [
    {
     "name": "stdout",
     "output_type": "stream",
     "text": [
      "Clickbait: \n",
      "All The Looks At The People's Choice Awards\n",
      "Does Kylie Jenner Know How To Wear Coats? A Very Serious Investigation\n",
      "This Is What US Protests Looked Like In The '60s\n",
      "24 GIFs That Show How Corinne Is The Greatest \"Bachelor\" Villian Yet\n",
      "Nene Leakes And Kandi Burruss Finally \"See Each Other\" In A Good Way\n",
      "--------------------------------------------------\n",
      "Genuine: \n",
      "Mayawatis risky calculus\n",
      "L&T Q3 net up 39% at Rs 972 cr, co says note ban a disruptor\n",
      "Australian Open women's final: Serena beats sister Venus Williams to win 23rd Grand Slam\n",
      "It's Federer vs Nadal in Australian Open finals\n",
      "Medical board fails to make any conclusion in report on Sunandas death\n"
     ]
    }
   ],
   "source": [
    "clickbait = open(\"../data/clickbait.valid.txt\").read().split(\"\\n\")\n",
    "genuine = open(\"../data/genuine.valid.txt\").read().split(\"\\n\")\n",
    "\n",
    "print \"Clickbait: \"\n",
    "for each in clickbait[:5]:\n",
    "    print each\n",
    "print \"-\" * 50\n",
    "\n",
    "print \"Genuine: \"\n",
    "for each in genuine[:5]:\n",
    "    print each"
   ]
  },
  {
   "cell_type": "code",
   "execution_count": 4,
   "metadata": {
    "collapsed": true
   },
   "outputs": [],
   "source": [
    "def words_to_indices(words):\n",
    "    return [inverse_vocabulary.get(word, inverse_vocabulary[UNK]) for word in words]\n",
    "\n",
    "\n",
    "def clean(text):\n",
    "    for punctuation in string.punctuation:\n",
    "        text = text.replace(punctuation, \" \" + punctuation + \" \")\n",
    "    for i in range(10):\n",
    "        text = text.replace(str(i), \" \" + str(i) + \" \")\n",
    "    text = MATCH_MULTIPLE_SPACES.sub(\" \", text)\n",
    "    return text\n"
   ]
  },
  {
   "cell_type": "markdown",
   "metadata": {},
   "source": [
    "## Genuine news marked as clickbait"
   ]
  },
  {
   "cell_type": "code",
   "execution_count": 5,
   "metadata": {
    "collapsed": false
   },
   "outputs": [
    {
     "name": "stdout",
     "output_type": "stream",
     "text": [
      "0.607759 Only love, no jihad: RLD fields couples who broke the communal divide\n",
      "0.998569 In U.P. polls, a united Left will make an impact: Yechury\n",
      "0.86769 The bull and their life\n",
      "0.990986 When White House blocked U.K. scribes from covering Trump-May meet\n",
      "0.816014 A look at Trumps executive order on refugees, immigration\n",
      "0.97482 Malala heartbroken over Trumps ban on most defenceless refugees\n",
      "0.526892 Zahida Pervez, three others convicted in Shehla Masood murder case\n",
      "0.985698 The White House hints that tax reform could pay for the border wall\n",
      "0.994258 Understanding the spike in Chinas birth rate\n",
      "0.922186 The multinational company is in trouble\n",
      "0.68529 The Doomsday Clock now reads two and a half minutes to midnight\n",
      "0.536371 Why Russia is about to decriminalise wife-beating\n",
      "0.949111 Donald Trump Signs Actions Banning Syrians, Suspending Refugee Program\n",
      "0.574807 On Globalization, China and Trump Are Closer Than They Appear\n",
      "0.596575 Nikki Haley Arrives at U.N., Vowing to Take Names of Opposing Nations\n",
      "0.542251 Big Chinese Deals Stall on Capital-Outflows Clampdown\n",
      "0.667891 U.S. Economy Returns to Lackluster Growth\n",
      "0.953657 Twitter releases national securityletters\n",
      "0.699021 Zuckerberg defends immigrants threatened byTrump\n",
      "0.760894 Doug shows you how to get rid of Amazon Freshtotes\n",
      "0.988117 Rogue National Park Service Twitter account says its no longer run by government employeesbut maybe it neverwas\n",
      "0.692271 Silicon Valleys false feminist idol finally makes apeep\n",
      "0.647063 Another Dolphin Killed By Selfie-Seeking Tourists\n",
      "0.932763 The Worst Wildfires in Chiles History Revealed in Pictures\n",
      "0.514298 New Crypt-Keeper Wasp Is Parasite That Bursts From Host's Head\n",
      "0.998978 3 Things You Need to Know About the Science Rebellion Against Trump\n",
      "0.879476 These Are the Defiant \"Water Protectors\" of Standing Rock\n",
      "0.992609 Watch Alien Worlds Whirl Around a Distant Star\n",
      "0.749461 Why a Volcano Has Erupted Almost Every Hour for 94 Years\n",
      "0.988329 4 Key Impacts of the Keystone XL and Dakota Access Pipelines\n",
      "--------------------------------------------------\n",
      "30 out of 74 wrong.\n"
     ]
    }
   ],
   "source": [
    "wrong_genuine_count = 0\n",
    "for each in genuine:\n",
    "    cleaned = clean(each.encode(\"ascii\", \"ignore\").lower()).split()\n",
    "    indices = words_to_indices(cleaned)\n",
    "    indices = sequence.pad_sequences([indices], maxlen=SEQUENCE_LENGTH)\n",
    "    prediction = model.predict(indices)[0, 0]\n",
    "    if prediction > .5:\n",
    "        print prediction, each\n",
    "        wrong_genuine_count += 1\n",
    "\n",
    "print \"-\" * 50\n",
    "print \"{0} out of {1} wrong.\".format(wrong_genuine_count, len(genuine))"
   ]
  },
  {
   "cell_type": "markdown",
   "metadata": {},
   "source": [
    "## Clickbait not detected"
   ]
  },
  {
   "cell_type": "code",
   "execution_count": 6,
   "metadata": {
    "collapsed": false
   },
   "outputs": [
    {
     "name": "stdout",
     "output_type": "stream",
     "text": [
      "0.120165 Trump signs executive order to 'keep radical Islamic terrorists out' of U.S.\n",
      "0.018982  Considering A Medical Career? \n",
      "0.141109 Haley to U.N. allies: back us or we'll take names\n",
      "0.0218158 Do Donald Trump's criticisms of NATO have merit? | Opinion\n",
      "0.0167255 Trumps Putin bromance is making Americans pro-Russian\n",
      "0.347661 How much longer can Oman be an oasis of peace in the Middle East?\n",
      "0.00139505 China is stepping up as Donald Trump withdraws from the world stage | Opinion\n",
      "0.0820034 Can Congos footballers help ease political tensions?\n",
      "0.00678784 Aruba; Five Star Island Goes Green\n",
      "0.0368978 Michael Wolff: Why the media keeps losing to Donald Trump\n",
      "0.00522536 Vijay Mallya: I begged for help, not loans - Times of India\n",
      "0.197374 Union Budget 2017: What manufacturing sector expect from Arun Jaitley-  The Times of India\n",
      "0.27219 Paul Ryan Really Doesn't Care If Mexico Pays For Trump's Wall\n",
      "0.118483 Dear President Trump: Our Grandparents Were Refugees. This Is Their Story.\n",
      "0.00116141 Weekend Roundup: A New 'Nationalist International' Challenges The Old Globalization\n",
      "0.0041764 Anne Frank Was A Refugee, Too\n",
      "0.0869176 Donald Trump Says He Would Prioritize Christians Over Other Refugees\n",
      "0.0149291 GQ Gives Donald Trump An Arguably Much-Needed Makeover\n",
      "--------------------------------------------------\n",
      "18 out of 76 wrong.\n"
     ]
    }
   ],
   "source": [
    "wrong_clickbait_count = 0\n",
    "for each in clickbait:\n",
    "    cleaned = clean(each.encode(\"ascii\", \"ignore\").lower()).split()\n",
    "    indices = words_to_indices(cleaned)\n",
    "    indices = sequence.pad_sequences([indices], maxlen=SEQUENCE_LENGTH)\n",
    "    prediction = model.predict(indices)[0, 0]\n",
    "    if prediction < .5:\n",
    "        print prediction, each\n",
    "        wrong_clickbait_count += 1\n",
    "\n",
    "print \"-\" * 50\n",
    "print \"{0} out of {1} wrong.\".format(wrong_clickbait_count, len(clickbait))"
   ]
  }
 ],
 "metadata": {
  "anaconda-cloud": {},
  "kernelspec": {
   "display_name": "Python [conda root]",
   "language": "python",
   "name": "conda-root-py"
  },
  "language_info": {
   "codemirror_mode": {
    "name": "ipython",
    "version": 2
   },
   "file_extension": ".py",
   "mimetype": "text/x-python",
   "name": "python",
   "nbconvert_exporter": "python",
   "pygments_lexer": "ipython2",
   "version": "2.7.12"
  }
 },
 "nbformat": 4,
 "nbformat_minor": 1
}
